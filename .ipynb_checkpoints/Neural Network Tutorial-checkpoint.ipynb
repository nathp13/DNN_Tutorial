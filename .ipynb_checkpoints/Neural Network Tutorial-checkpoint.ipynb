{
 "cells": [
  {
   "cell_type": "code",
   "execution_count": 30,
   "metadata": {},
   "outputs": [
    {
     "name": "stdout",
     "output_type": "stream",
     "text": [
      "Tensorflow version:  1.4.0\n"
     ]
    }
   ],
   "source": [
    "import tensorflow as tf\n",
    "import numpy as np\n",
    "\n",
    "print ('Tensorflow version: ', tf.__version__)"
   ]
  },
  {
   "cell_type": "markdown",
   "metadata": {},
   "source": [
    "## TensorFlow Basics"
   ]
  },
  {
   "cell_type": "markdown",
   "metadata": {},
   "source": [
    "### Tensors"
   ]
  },
  {
   "cell_type": "code",
   "execution_count": 31,
   "metadata": {},
   "outputs": [],
   "source": [
    "hello = tf.constant('Hello')"
   ]
  },
  {
   "cell_type": "code",
   "execution_count": 32,
   "metadata": {},
   "outputs": [
    {
     "data": {
      "text/plain": [
       "tensorflow.python.framework.ops.Tensor"
      ]
     },
     "execution_count": 32,
     "metadata": {},
     "output_type": "execute_result"
    }
   ],
   "source": [
    "type(hello)"
   ]
  },
  {
   "cell_type": "code",
   "execution_count": 4,
   "metadata": {},
   "outputs": [],
   "source": [
    "world = tf.constant('World')"
   ]
  },
  {
   "cell_type": "code",
   "execution_count": 5,
   "metadata": {},
   "outputs": [],
   "source": [
    "result = hello + world"
   ]
  },
  {
   "cell_type": "code",
   "execution_count": 6,
   "metadata": {},
   "outputs": [
    {
     "data": {
      "text/plain": [
       "<tf.Tensor 'add:0' shape=() dtype=string>"
      ]
     },
     "execution_count": 6,
     "metadata": {},
     "output_type": "execute_result"
    }
   ],
   "source": [
    "result"
   ]
  },
  {
   "cell_type": "code",
   "execution_count": 7,
   "metadata": {},
   "outputs": [],
   "source": [
    "with tf.Session() as sess:\n",
    "    result = sess.run(hello+world)"
   ]
  },
  {
   "cell_type": "code",
   "execution_count": 8,
   "metadata": {},
   "outputs": [
    {
     "data": {
      "text/plain": [
       "b'HelloWorld'"
      ]
     },
     "execution_count": 8,
     "metadata": {},
     "output_type": "execute_result"
    }
   ],
   "source": [
    "result"
   ]
  },
  {
   "cell_type": "markdown",
   "metadata": {},
   "source": [
    "### Computations"
   ]
  },
  {
   "cell_type": "code",
   "execution_count": 10,
   "metadata": {},
   "outputs": [],
   "source": [
    "tensor_1 = tf.constant(1)\n",
    "tensor_2 = tf.constant(2)"
   ]
  },
  {
   "cell_type": "code",
   "execution_count": 11,
   "metadata": {},
   "outputs": [],
   "source": [
    "res = tensor_1 + tensor_2"
   ]
  },
  {
   "cell_type": "code",
   "execution_count": 12,
   "metadata": {},
   "outputs": [
    {
     "data": {
      "text/plain": [
       "tensorflow.python.framework.ops.Tensor"
      ]
     },
     "execution_count": 12,
     "metadata": {},
     "output_type": "execute_result"
    }
   ],
   "source": [
    "type(res)"
   ]
  },
  {
   "cell_type": "code",
   "execution_count": 14,
   "metadata": {},
   "outputs": [
    {
     "data": {
      "text/plain": [
       "3"
      ]
     },
     "execution_count": 14,
     "metadata": {},
     "output_type": "execute_result"
    }
   ],
   "source": [
    "with tf.Session() as sess:\n",
    "    res = sess.run(tensor_1 + tensor_2)\n",
    "res"
   ]
  },
  {
   "cell_type": "markdown",
   "metadata": {},
   "source": [
    "### Matrix Operations"
   ]
  },
  {
   "cell_type": "code",
   "execution_count": 23,
   "metadata": {},
   "outputs": [],
   "source": [
    "sess = tf.InteractiveSession()\n",
    "fill_mat = tf.fill((4,4),10)\n",
    "myzeros = tf.zeros((4,4))\n",
    "myrandn = tf.random_normal((4,4),mean=0,stddev=0.5)"
   ]
  },
  {
   "cell_type": "code",
   "execution_count": 24,
   "metadata": {},
   "outputs": [
    {
     "data": {
      "text/plain": [
       "TensorShape([Dimension(2), Dimension(2)])"
      ]
     },
     "execution_count": 24,
     "metadata": {},
     "output_type": "execute_result"
    }
   ],
   "source": [
    "a = tf.constant([ [1,2],\n",
    "                  [3,4] ])\n",
    "a.get_shape()"
   ]
  },
  {
   "cell_type": "code",
   "execution_count": 25,
   "metadata": {},
   "outputs": [
    {
     "data": {
      "text/plain": [
       "TensorShape([Dimension(2), Dimension(1)])"
      ]
     },
     "execution_count": 25,
     "metadata": {},
     "output_type": "execute_result"
    }
   ],
   "source": [
    "b = tf.constant([[10],[100]])\n",
    "\n",
    "b.get_shape()"
   ]
  },
  {
   "cell_type": "code",
   "execution_count": 26,
   "metadata": {},
   "outputs": [
    {
     "data": {
      "text/plain": [
       "array([[210],\n",
       "       [430]])"
      ]
     },
     "execution_count": 26,
     "metadata": {},
     "output_type": "execute_result"
    }
   ],
   "source": [
    "result = tf.matmul(a,b)\n",
    "result.eval()"
   ]
  },
  {
   "cell_type": "markdown",
   "metadata": {},
   "source": [
    "### Variables and Placeholders"
   ]
  },
  {
   "cell_type": "code",
   "execution_count": 27,
   "metadata": {},
   "outputs": [],
   "source": [
    "my_tensor = tf.random_uniform((4,4),0,1)\n",
    "\n",
    "my_var = tf.Variable(initial_value=my_tensor)"
   ]
  },
  {
   "cell_type": "code",
   "execution_count": 28,
   "metadata": {},
   "outputs": [
    {
     "data": {
      "text/plain": [
       "array([[0.68843925, 0.06951118, 0.4767313 , 0.34576714],\n",
       "       [0.5772841 , 0.6287644 , 0.74237597, 0.37395048],\n",
       "       [0.7068802 , 0.3391198 , 0.48243117, 0.47480857],\n",
       "       [0.670897  , 0.04317081, 0.9839406 , 0.28229344]], dtype=float32)"
      ]
     },
     "execution_count": 28,
     "metadata": {},
     "output_type": "execute_result"
    }
   ],
   "source": [
    "## Attention: all the global variables must be initialized before they can be used\n",
    "init = tf.global_variables_initializer()\n",
    "init.run()\n",
    "my_var.eval()"
   ]
  },
  {
   "cell_type": "code",
   "execution_count": 29,
   "metadata": {},
   "outputs": [],
   "source": [
    "ph = tf.placeholder(tf.float64)"
   ]
  },
  {
   "cell_type": "markdown",
   "metadata": {},
   "source": [
    "# Regression"
   ]
  },
  {
   "cell_type": "markdown",
   "metadata": {},
   "source": [
    "### Create dataset"
   ]
  },
  {
   "cell_type": "code",
   "execution_count": 139,
   "metadata": {},
   "outputs": [
    {
     "data": {
      "text/plain": [
       "[<matplotlib.lines.Line2D at 0x2ad07168208>]"
      ]
     },
     "execution_count": 139,
     "metadata": {},
     "output_type": "execute_result"
    },
    {
     "data": {
      "image/png": "[encoded data removed]",
      "text/plain": [
       "<matplotlib.figure.Figure at 0x2ad05f1d9b0>"
      ]
     },
     "metadata": {},
     "output_type": "display_data"
    }
   ],
   "source": [
    "import numpy as np\n",
    "import matplotlib.pyplot as plt\n",
    "import pandas as pd\n",
    "\n",
    "samples = 1000\n",
    "x = np.linspace(0, 50, samples).astype(np.float32)\n",
    "noise = np.random.normal(loc = 0, scale = 0.08, size = samples)\n",
    "\n",
    "y = np.sin(x/3) + 0.5*x**0.5 + x/10 + noise\n",
    "y = y.astype(np.float32)\n",
    "\n",
    "%matplotlib inline\n",
    "plt.plot(x, y)"
   ]
  },
  {
   "cell_type": "markdown",
   "metadata": {},
   "source": [
    "### Split the dataset"
   ]
  },
  {
   "cell_type": "code",
   "execution_count": 140,
   "metadata": {},
   "outputs": [],
   "source": [
    "from sklearn.model_selection import train_test_split\n",
    "test_size = 0.2\n",
    "x_train, x_test, y_train, y_test = train_test_split(x, y, test_size = test_size, random_state= 101)"
   ]
  },
  {
   "cell_type": "markdown",
   "metadata": {},
   "source": [
    "### Create deep learning-based regression model"
   ]
  },
  {
   "cell_type": "code",
   "execution_count": 147,
   "metadata": {},
   "outputs": [
    {
     "name": "stdout",
     "output_type": "stream",
     "text": [
      "INFO:tensorflow:Using default config.\n",
      "WARNING:tensorflow:Using temporary folder as model directory: C:\\Users\\ZHANGX~1\\AppData\\Local\\Temp\\tmpfpfsol0e\n",
      "INFO:tensorflow:Using config: {'_model_dir': 'C:\\\\Users\\\\ZHANGX~1\\\\AppData\\\\Local\\\\Temp\\\\tmpfpfsol0e', '_tf_random_seed': None, '_save_summary_steps': 100, '_save_checkpoints_steps': None, '_save_checkpoints_secs': 600, '_session_config': None, '_keep_checkpoint_max': 5, '_keep_checkpoint_every_n_hours': 10000, '_log_step_count_steps': 100, '_service': None, '_cluster_spec': <tensorflow.python.training.server_lib.ClusterSpec object at 0x000002AD0A628208>, '_task_type': 'worker', '_task_id': 0, '_master': '', '_is_chief': True, '_num_ps_replicas': 0, '_num_worker_replicas': 1}\n",
      "INFO:tensorflow:Create CheckpointSaverHook.\n",
      "INFO:tensorflow:Saving checkpoints for 1 into C:\\Users\\ZHANGX~1\\AppData\\Local\\Temp\\tmpfpfsol0e\\model.ckpt.\n",
      "INFO:tensorflow:loss = 736.8814, step = 1\n",
      "INFO:tensorflow:global_step/sec: 960.793\n",
      "INFO:tensorflow:loss = 15.063482, step = 101 (0.105 sec)\n",
      "INFO:tensorflow:global_step/sec: 1514.23\n",
      "INFO:tensorflow:loss = 16.166916, step = 201 (0.067 sec)\n",
      "INFO:tensorflow:global_step/sec: 1448.05\n",
      "INFO:tensorflow:loss = 8.909332, step = 301 (0.068 sec)\n",
      "INFO:tensorflow:global_step/sec: 1469.76\n",
      "INFO:tensorflow:loss = 11.469391, step = 401 (0.068 sec)\n",
      "INFO:tensorflow:global_step/sec: 1537.37\n",
      "INFO:tensorflow:loss = 6.973654, step = 501 (0.065 sec)\n",
      "INFO:tensorflow:global_step/sec: 1514.1\n",
      "INFO:tensorflow:loss = 7.001659, step = 601 (0.067 sec)\n",
      "INFO:tensorflow:global_step/sec: 1537.38\n",
      "INFO:tensorflow:loss = 8.232222, step = 701 (0.065 sec)\n",
      "INFO:tensorflow:global_step/sec: 1537.37\n",
      "INFO:tensorflow:loss = 9.31184, step = 801 (0.065 sec)\n",
      "INFO:tensorflow:global_step/sec: 1514.08\n",
      "INFO:tensorflow:loss = 8.473553, step = 901 (0.066 sec)\n",
      "INFO:tensorflow:global_step/sec: 1537.37\n",
      "INFO:tensorflow:loss = 7.32155, step = 1001 (0.064 sec)\n",
      "INFO:tensorflow:global_step/sec: 1537.36\n",
      "INFO:tensorflow:loss = 5.307006, step = 1101 (0.065 sec)\n",
      "INFO:tensorflow:global_step/sec: 1514.09\n",
      "INFO:tensorflow:loss = 7.1999884, step = 1201 (0.066 sec)\n",
      "INFO:tensorflow:global_step/sec: 1407.46\n",
      "INFO:tensorflow:loss = 7.164598, step = 1301 (0.072 sec)\n",
      "INFO:tensorflow:global_step/sec: 1586.19\n",
      "INFO:tensorflow:loss = 9.368534, step = 1401 (0.062 sec)\n",
      "INFO:tensorflow:global_step/sec: 1561.38\n",
      "INFO:tensorflow:loss = 10.310932, step = 1501 (0.064 sec)\n",
      "INFO:tensorflow:global_step/sec: 1638.2\n",
      "INFO:tensorflow:loss = 9.566263, step = 1601 (0.062 sec)\n",
      "INFO:tensorflow:global_step/sec: 1611.77\n",
      "INFO:tensorflow:loss = 5.73125, step = 1701 (0.062 sec)\n",
      "INFO:tensorflow:global_step/sec: 1561.39\n",
      "INFO:tensorflow:loss = 6.926572, step = 1801 (0.063 sec)\n",
      "INFO:tensorflow:global_step/sec: 1537.37\n",
      "INFO:tensorflow:loss = 4.661095, step = 1901 (0.065 sec)\n",
      "INFO:tensorflow:global_step/sec: 1586.18\n",
      "INFO:tensorflow:loss = 5.9547777, step = 2001 (0.064 sec)\n",
      "INFO:tensorflow:global_step/sec: 1537.36\n",
      "INFO:tensorflow:loss = 6.907821, step = 2101 (0.066 sec)\n",
      "INFO:tensorflow:global_step/sec: 1537.39\n",
      "INFO:tensorflow:loss = 7.0680504, step = 2201 (0.063 sec)\n",
      "INFO:tensorflow:global_step/sec: 1586.17\n",
      "INFO:tensorflow:loss = 9.866128, step = 2301 (0.064 sec)\n",
      "INFO:tensorflow:global_step/sec: 1561.4\n",
      "INFO:tensorflow:loss = 13.06034, step = 2401 (0.064 sec)\n",
      "INFO:tensorflow:global_step/sec: 1611.76\n",
      "INFO:tensorflow:loss = 6.217512, step = 2501 (0.062 sec)\n",
      "INFO:tensorflow:global_step/sec: 1611.76\n",
      "INFO:tensorflow:loss = 6.803028, step = 2601 (0.061 sec)\n",
      "INFO:tensorflow:global_step/sec: 1638.19\n",
      "INFO:tensorflow:loss = 9.341224, step = 2701 (0.063 sec)\n",
      "INFO:tensorflow:global_step/sec: 1586.18\n",
      "INFO:tensorflow:loss = 8.852034, step = 2801 (0.062 sec)\n",
      "INFO:tensorflow:global_step/sec: 1586.19\n",
      "INFO:tensorflow:loss = 4.4940705, step = 2901 (0.062 sec)\n",
      "INFO:tensorflow:global_step/sec: 1611.76\n",
      "INFO:tensorflow:loss = 4.7463465, step = 3001 (0.062 sec)\n",
      "INFO:tensorflow:global_step/sec: 1611.76\n",
      "INFO:tensorflow:loss = 9.568106, step = 3101 (0.062 sec)\n",
      "INFO:tensorflow:global_step/sec: 1611.76\n",
      "INFO:tensorflow:loss = 8.855754, step = 3201 (0.061 sec)\n",
      "INFO:tensorflow:global_step/sec: 1611.75\n",
      "INFO:tensorflow:loss = 11.498679, step = 3301 (0.063 sec)\n",
      "INFO:tensorflow:global_step/sec: 1611.77\n",
      "INFO:tensorflow:loss = 8.383927, step = 3401 (0.062 sec)\n",
      "INFO:tensorflow:global_step/sec: 1448.25\n",
      "INFO:tensorflow:loss = 6.1723228, step = 3501 (0.070 sec)\n",
      "INFO:tensorflow:global_step/sec: 1427.57\n",
      "INFO:tensorflow:loss = 9.1788435, step = 3601 (0.071 sec)\n",
      "INFO:tensorflow:global_step/sec: 1297.78\n",
      "INFO:tensorflow:loss = 8.772388, step = 3701 (0.077 sec)\n",
      "INFO:tensorflow:global_step/sec: 1314.86\n",
      "INFO:tensorflow:loss = 9.926838, step = 3801 (0.075 sec)\n",
      "INFO:tensorflow:global_step/sec: 1387.9\n",
      "INFO:tensorflow:loss = 4.351428, step = 3901 (0.074 sec)\n",
      "INFO:tensorflow:global_step/sec: 1332.39\n",
      "INFO:tensorflow:loss = 4.7818527, step = 4001 (0.074 sec)\n",
      "INFO:tensorflow:global_step/sec: 1249.12\n",
      "INFO:tensorflow:loss = 5.3588867, step = 4101 (0.080 sec)\n",
      "INFO:tensorflow:global_step/sec: 1281.15\n",
      "INFO:tensorflow:loss = 7.1998887, step = 4201 (0.078 sec)\n",
      "INFO:tensorflow:global_step/sec: 1387.91\n",
      "INFO:tensorflow:loss = 10.002829, step = 4301 (0.071 sec)\n",
      "INFO:tensorflow:global_step/sec: 1448.25\n",
      "INFO:tensorflow:loss = 4.123484, step = 4401 (0.070 sec)\n",
      "INFO:tensorflow:global_step/sec: 1135.57\n",
      "INFO:tensorflow:loss = 7.5774026, step = 4501 (0.085 sec)\n",
      "INFO:tensorflow:global_step/sec: 1665.48\n",
      "INFO:tensorflow:loss = 7.580036, step = 4601 (0.062 sec)\n",
      "INFO:tensorflow:global_step/sec: 1638.18\n",
      "INFO:tensorflow:loss = 6.8604164, step = 4701 (0.060 sec)\n",
      "INFO:tensorflow:global_step/sec: 1665.48\n",
      "INFO:tensorflow:loss = 4.4916725, step = 4801 (0.062 sec)\n",
      "INFO:tensorflow:global_step/sec: 1586.18\n",
      "INFO:tensorflow:loss = 4.992201, step = 4901 (0.062 sec)\n",
      "INFO:tensorflow:global_step/sec: 1638.17\n",
      "INFO:tensorflow:loss = 4.023816, step = 5001 (0.060 sec)\n",
      "INFO:tensorflow:global_step/sec: 1611.77\n",
      "INFO:tensorflow:loss = 4.9864116, step = 5101 (0.063 sec)\n",
      "INFO:tensorflow:global_step/sec: 1638.2\n",
      "INFO:tensorflow:loss = 7.088684, step = 5201 (0.060 sec)\n",
      "INFO:tensorflow:global_step/sec: 1537.35\n",
      "INFO:tensorflow:loss = 7.68449, step = 5301 (0.066 sec)\n",
      "INFO:tensorflow:global_step/sec: 1537.39\n",
      "INFO:tensorflow:loss = 5.8097095, step = 5401 (0.067 sec)\n",
      "INFO:tensorflow:global_step/sec: 1297.77\n",
      "INFO:tensorflow:loss = 2.0166667, step = 5501 (0.075 sec)\n",
      "INFO:tensorflow:global_step/sec: 1233.71\n",
      "INFO:tensorflow:loss = 7.571572, step = 5601 (0.081 sec)\n",
      "INFO:tensorflow:global_step/sec: 1218.64\n",
      "INFO:tensorflow:loss = 5.9895873, step = 5701 (0.082 sec)\n",
      "INFO:tensorflow:global_step/sec: 1427.57\n",
      "INFO:tensorflow:loss = 5.7444386, step = 5801 (0.070 sec)\n",
      "INFO:tensorflow:global_step/sec: 1350.39\n",
      "INFO:tensorflow:loss = 4.9479766, step = 5901 (0.075 sec)\n",
      "INFO:tensorflow:global_step/sec: 1332.4\n",
      "INFO:tensorflow:loss = 5.500883, step = 6001 (0.074 sec)\n",
      "INFO:tensorflow:global_step/sec: 1561.4\n",
      "INFO:tensorflow:loss = 1.0023469, step = 6101 (0.064 sec)\n",
      "INFO:tensorflow:global_step/sec: 1561.39\n",
      "INFO:tensorflow:loss = 1.8075702, step = 6201 (0.063 sec)\n",
      "INFO:tensorflow:global_step/sec: 1611.76\n",
      "INFO:tensorflow:loss = 5.449225, step = 6301 (0.062 sec)\n",
      "INFO:tensorflow:global_step/sec: 1665.49\n",
      "INFO:tensorflow:loss = 4.635039, step = 6401 (0.060 sec)\n",
      "INFO:tensorflow:global_step/sec: 1638.17\n",
      "INFO:tensorflow:loss = 3.3690982, step = 6501 (0.061 sec)\n",
      "INFO:tensorflow:global_step/sec: 1561.41\n",
      "INFO:tensorflow:loss = 4.973262, step = 6601 (0.065 sec)\n",
      "INFO:tensorflow:global_step/sec: 1561.37\n",
      "INFO:tensorflow:loss = 2.9879928, step = 6701 (0.064 sec)\n",
      "INFO:tensorflow:global_step/sec: 1491.5\n",
      "INFO:tensorflow:loss = 3.0667624, step = 6801 (0.066 sec)\n",
      "INFO:tensorflow:global_step/sec: 1586.17\n",
      "INFO:tensorflow:loss = 3.191948, step = 6901 (0.063 sec)\n",
      "INFO:tensorflow:global_step/sec: 1586.18\n",
      "INFO:tensorflow:loss = 3.1807945, step = 7001 (0.064 sec)\n",
      "INFO:tensorflow:global_step/sec: 1561.41\n",
      "INFO:tensorflow:loss = 2.9884582, step = 7101 (0.064 sec)\n",
      "INFO:tensorflow:global_step/sec: 1561.39\n",
      "INFO:tensorflow:loss = 4.5330296, step = 7201 (0.063 sec)\n",
      "INFO:tensorflow:global_step/sec: 1638.19\n",
      "INFO:tensorflow:loss = 5.31896, step = 7301 (0.061 sec)\n",
      "INFO:tensorflow:global_step/sec: 1665.48\n",
      "INFO:tensorflow:loss = 3.323867, step = 7401 (0.060 sec)\n",
      "INFO:tensorflow:global_step/sec: 1638.2\n"
     ]
    },
    {
     "name": "stdout",
     "output_type": "stream",
     "text": [
      "INFO:tensorflow:loss = 3.1219385, step = 7501 (0.061 sec)\n",
      "INFO:tensorflow:global_step/sec: 1665.47\n",
      "INFO:tensorflow:loss = 2.5590918, step = 7601 (0.061 sec)\n",
      "INFO:tensorflow:global_step/sec: 1638.18\n",
      "INFO:tensorflow:loss = 3.5746388, step = 7701 (0.060 sec)\n",
      "INFO:tensorflow:global_step/sec: 1665.5\n",
      "INFO:tensorflow:loss = 5.938529, step = 7801 (0.060 sec)\n",
      "INFO:tensorflow:global_step/sec: 1665.5\n",
      "INFO:tensorflow:loss = 4.162513, step = 7901 (0.060 sec)\n",
      "INFO:tensorflow:global_step/sec: 1693.72\n",
      "INFO:tensorflow:loss = 2.0463994, step = 8001 (0.061 sec)\n",
      "INFO:tensorflow:global_step/sec: 1491.49\n",
      "INFO:tensorflow:loss = 2.0673199, step = 8101 (0.065 sec)\n",
      "INFO:tensorflow:global_step/sec: 1586.17\n",
      "INFO:tensorflow:loss = 4.860978, step = 8201 (0.065 sec)\n",
      "INFO:tensorflow:global_step/sec: 1469.55\n",
      "INFO:tensorflow:loss = 2.8675876, step = 8301 (0.066 sec)\n",
      "INFO:tensorflow:global_step/sec: 1314.85\n",
      "INFO:tensorflow:loss = 5.991826, step = 8401 (0.076 sec)\n",
      "INFO:tensorflow:global_step/sec: 1448.26\n",
      "INFO:tensorflow:loss = 1.7135681, step = 8501 (0.070 sec)\n",
      "INFO:tensorflow:global_step/sec: 1537.37\n",
      "INFO:tensorflow:loss = 3.244404, step = 8601 (0.066 sec)\n",
      "INFO:tensorflow:global_step/sec: 1514.07\n",
      "INFO:tensorflow:loss = 5.0911427, step = 8701 (0.064 sec)\n",
      "INFO:tensorflow:global_step/sec: 1611.77\n",
      "INFO:tensorflow:loss = 3.5157022, step = 8801 (0.062 sec)\n",
      "INFO:tensorflow:global_step/sec: 1665.5\n",
      "INFO:tensorflow:loss = 3.0268621, step = 8901 (0.060 sec)\n",
      "INFO:tensorflow:global_step/sec: 1638.16\n",
      "INFO:tensorflow:loss = 7.543782, step = 9001 (0.061 sec)\n",
      "INFO:tensorflow:global_step/sec: 1665.5\n",
      "INFO:tensorflow:loss = 1.428299, step = 9101 (0.060 sec)\n",
      "INFO:tensorflow:global_step/sec: 1611.74\n",
      "INFO:tensorflow:loss = 2.4035003, step = 9201 (0.063 sec)\n",
      "INFO:tensorflow:global_step/sec: 1561.4\n",
      "INFO:tensorflow:loss = 2.3301044, step = 9301 (0.064 sec)\n",
      "INFO:tensorflow:global_step/sec: 1586.19\n",
      "INFO:tensorflow:loss = 1.3518587, step = 9401 (0.062 sec)\n",
      "INFO:tensorflow:global_step/sec: 1586.17\n",
      "INFO:tensorflow:loss = 2.6020572, step = 9501 (0.064 sec)\n",
      "INFO:tensorflow:global_step/sec: 1561.41\n",
      "INFO:tensorflow:loss = 3.2516453, step = 9601 (0.063 sec)\n",
      "INFO:tensorflow:global_step/sec: 1537.38\n",
      "INFO:tensorflow:loss = 2.1294136, step = 9701 (0.065 sec)\n",
      "INFO:tensorflow:global_step/sec: 1561.01\n",
      "INFO:tensorflow:loss = 5.0275083, step = 9801 (0.064 sec)\n",
      "INFO:tensorflow:global_step/sec: 1638.6\n",
      "INFO:tensorflow:loss = 2.0079112, step = 9901 (0.061 sec)\n",
      "INFO:tensorflow:global_step/sec: 1665.5\n",
      "INFO:tensorflow:loss = 2.5386388, step = 10001 (0.060 sec)\n",
      "INFO:tensorflow:global_step/sec: 1427.56\n",
      "INFO:tensorflow:loss = 4.2111425, step = 10101 (0.070 sec)\n",
      "INFO:tensorflow:global_step/sec: 1561.39\n",
      "INFO:tensorflow:loss = 2.21021, step = 10201 (0.065 sec)\n",
      "INFO:tensorflow:global_step/sec: 1469.54\n",
      "INFO:tensorflow:loss = 2.5805805, step = 10301 (0.067 sec)\n",
      "INFO:tensorflow:global_step/sec: 1561.4\n",
      "INFO:tensorflow:loss = 3.6205862, step = 10401 (0.064 sec)\n",
      "INFO:tensorflow:global_step/sec: 1586.16\n",
      "INFO:tensorflow:loss = 3.4560196, step = 10501 (0.064 sec)\n",
      "INFO:tensorflow:global_step/sec: 1491.49\n",
      "INFO:tensorflow:loss = 8.626219, step = 10601 (0.066 sec)\n",
      "INFO:tensorflow:global_step/sec: 1537.38\n",
      "INFO:tensorflow:loss = 3.2152774, step = 10701 (0.065 sec)\n",
      "INFO:tensorflow:global_step/sec: 1638.19\n",
      "INFO:tensorflow:loss = 4.253975, step = 10801 (0.062 sec)\n",
      "INFO:tensorflow:global_step/sec: 1586.17\n",
      "INFO:tensorflow:loss = 1.7662706, step = 10901 (0.063 sec)\n",
      "INFO:tensorflow:global_step/sec: 1561.39\n",
      "INFO:tensorflow:loss = 5.3312483, step = 11001 (0.064 sec)\n",
      "INFO:tensorflow:global_step/sec: 1537.38\n",
      "INFO:tensorflow:loss = 5.914551, step = 11101 (0.065 sec)\n",
      "INFO:tensorflow:global_step/sec: 1561.39\n",
      "INFO:tensorflow:loss = 2.5716574, step = 11201 (0.065 sec)\n",
      "INFO:tensorflow:global_step/sec: 1537.38\n",
      "INFO:tensorflow:loss = 5.8488884, step = 11301 (0.064 sec)\n",
      "INFO:tensorflow:global_step/sec: 1586.2\n",
      "INFO:tensorflow:loss = 2.9433968, step = 11401 (0.064 sec)\n",
      "INFO:tensorflow:global_step/sec: 1561.37\n",
      "INFO:tensorflow:loss = 3.826779, step = 11501 (0.062 sec)\n",
      "INFO:tensorflow:global_step/sec: 1611.77\n",
      "INFO:tensorflow:loss = 4.2843466, step = 11601 (0.063 sec)\n",
      "INFO:tensorflow:global_step/sec: 1586.19\n",
      "INFO:tensorflow:loss = 4.9060793, step = 11701 (0.062 sec)\n",
      "INFO:tensorflow:global_step/sec: 1611.74\n",
      "INFO:tensorflow:loss = 3.4568806, step = 11801 (0.063 sec)\n",
      "INFO:tensorflow:global_step/sec: 1586.2\n",
      "INFO:tensorflow:loss = 1.5514643, step = 11901 (0.062 sec)\n",
      "INFO:tensorflow:global_step/sec: 1586.17\n",
      "INFO:tensorflow:loss = 0.634228, step = 12001 (0.064 sec)\n",
      "INFO:tensorflow:global_step/sec: 1561.41\n",
      "INFO:tensorflow:loss = 1.7074511, step = 12101 (0.064 sec)\n",
      "INFO:tensorflow:global_step/sec: 1611.76\n",
      "INFO:tensorflow:loss = 1.2639883, step = 12201 (0.062 sec)\n",
      "INFO:tensorflow:global_step/sec: 1537.38\n",
      "INFO:tensorflow:loss = 2.4094195, step = 12301 (0.064 sec)\n",
      "INFO:tensorflow:global_step/sec: 1611.76\n",
      "INFO:tensorflow:loss = 1.7200907, step = 12401 (0.063 sec)\n",
      "INFO:tensorflow:global_step/sec: 1586.17\n",
      "INFO:tensorflow:loss = 1.9319317, step = 12501 (0.063 sec)\n",
      "INFO:tensorflow:global_step/sec: 1586.17\n",
      "INFO:tensorflow:loss = 1.4950204, step = 12601 (0.062 sec)\n",
      "INFO:tensorflow:global_step/sec: 1264.94\n",
      "INFO:tensorflow:loss = 2.3969157, step = 12701 (0.079 sec)\n",
      "INFO:tensorflow:global_step/sec: 1586.17\n",
      "INFO:tensorflow:loss = 5.3180833, step = 12801 (0.063 sec)\n",
      "INFO:tensorflow:global_step/sec: 1611.75\n",
      "INFO:tensorflow:loss = 2.34731, step = 12901 (0.063 sec)\n",
      "INFO:tensorflow:global_step/sec: 1561.38\n",
      "INFO:tensorflow:loss = 2.4398103, step = 13001 (0.064 sec)\n",
      "INFO:tensorflow:global_step/sec: 1561.42\n",
      "INFO:tensorflow:loss = 4.533409, step = 13101 (0.063 sec)\n",
      "INFO:tensorflow:global_step/sec: 1586.18\n",
      "INFO:tensorflow:loss = 5.3413315, step = 13201 (0.064 sec)\n",
      "INFO:tensorflow:global_step/sec: 1491.49\n",
      "INFO:tensorflow:loss = 0.31347173, step = 13301 (0.069 sec)\n",
      "INFO:tensorflow:global_step/sec: 1297.78\n",
      "INFO:tensorflow:loss = 4.0809674, step = 13401 (0.076 sec)\n",
      "INFO:tensorflow:global_step/sec: 1368.9\n",
      "INFO:tensorflow:loss = 4.182791, step = 13501 (0.072 sec)\n",
      "INFO:tensorflow:global_step/sec: 1161.96\n",
      "INFO:tensorflow:loss = 2.3455827, step = 13601 (0.085 sec)\n",
      "INFO:tensorflow:global_step/sec: 1469.55\n",
      "INFO:tensorflow:loss = 2.0283163, step = 13701 (0.068 sec)\n",
      "INFO:tensorflow:global_step/sec: 1586.19\n",
      "INFO:tensorflow:loss = 7.097562, step = 13801 (0.064 sec)\n",
      "INFO:tensorflow:global_step/sec: 1514.06\n",
      "INFO:tensorflow:loss = 2.3305998, step = 13901 (0.066 sec)\n",
      "INFO:tensorflow:global_step/sec: 1491.5\n",
      "INFO:tensorflow:loss = 2.5212164, step = 14001 (0.068 sec)\n",
      "INFO:tensorflow:global_step/sec: 1350.4\n",
      "INFO:tensorflow:loss = 2.2084236, step = 14101 (0.073 sec)\n",
      "INFO:tensorflow:global_step/sec: 1469.55\n",
      "INFO:tensorflow:loss = 5.7126513, step = 14201 (0.067 sec)\n",
      "INFO:tensorflow:global_step/sec: 1469.55\n",
      "INFO:tensorflow:loss = 5.320389, step = 14301 (0.068 sec)\n",
      "INFO:tensorflow:global_step/sec: 1491.48\n",
      "INFO:tensorflow:loss = 1.9704702, step = 14401 (0.067 sec)\n",
      "INFO:tensorflow:global_step/sec: 1514.09\n",
      "INFO:tensorflow:loss = 1.4731247, step = 14501 (0.068 sec)\n",
      "INFO:tensorflow:global_step/sec: 1427.56\n",
      "INFO:tensorflow:loss = 1.716208, step = 14601 (0.069 sec)\n",
      "INFO:tensorflow:global_step/sec: 1537.38\n",
      "INFO:tensorflow:loss = 3.8951712, step = 14701 (0.065 sec)\n",
      "INFO:tensorflow:global_step/sec: 1537.37\n",
      "INFO:tensorflow:loss = 0.6949047, step = 14801 (0.064 sec)\n",
      "INFO:tensorflow:global_step/sec: 1537.37\n",
      "INFO:tensorflow:loss = 2.2736387, step = 14901 (0.065 sec)\n",
      "INFO:tensorflow:global_step/sec: 1586.17\n",
      "INFO:tensorflow:loss = 2.2162566, step = 15001 (0.063 sec)\n",
      "INFO:tensorflow:global_step/sec: 1586.19\n",
      "INFO:tensorflow:loss = 3.4057844, step = 15101 (0.064 sec)\n",
      "INFO:tensorflow:global_step/sec: 1537.35\n",
      "INFO:tensorflow:loss = 2.207193, step = 15201 (0.065 sec)\n",
      "INFO:tensorflow:global_step/sec: 1537.39\n",
      "INFO:tensorflow:loss = 4.205302, step = 15301 (0.065 sec)\n",
      "INFO:tensorflow:global_step/sec: 1561.39\n",
      "INFO:tensorflow:loss = 1.4263709, step = 15401 (0.063 sec)\n",
      "INFO:tensorflow:global_step/sec: 1586.17\n",
      "INFO:tensorflow:loss = 2.7193236, step = 15501 (0.064 sec)\n",
      "INFO:tensorflow:global_step/sec: 1537.39\n",
      "INFO:tensorflow:loss = 2.5704298, step = 15601 (0.065 sec)\n",
      "INFO:tensorflow:global_step/sec: 1537.35\n",
      "INFO:tensorflow:loss = 1.5768495, step = 15701 (0.064 sec)\n"
     ]
    },
    {
     "name": "stdout",
     "output_type": "stream",
     "text": [
      "INFO:tensorflow:global_step/sec: 1537.38\n",
      "INFO:tensorflow:loss = 4.076214, step = 15801 (0.065 sec)\n",
      "INFO:tensorflow:global_step/sec: 1586.18\n",
      "INFO:tensorflow:loss = 3.9660263, step = 15901 (0.063 sec)\n",
      "INFO:tensorflow:global_step/sec: 1611.76\n",
      "INFO:tensorflow:loss = 2.0228512, step = 16001 (0.063 sec)\n",
      "INFO:tensorflow:global_step/sec: 1586.16\n",
      "INFO:tensorflow:loss = 1.1041995, step = 16101 (0.063 sec)\n",
      "INFO:tensorflow:global_step/sec: 1586.2\n",
      "INFO:tensorflow:loss = 2.0466053, step = 16201 (0.062 sec)\n",
      "INFO:tensorflow:global_step/sec: 1586.18\n",
      "INFO:tensorflow:loss = 1.7257754, step = 16301 (0.064 sec)\n",
      "INFO:tensorflow:global_step/sec: 1611.76\n",
      "INFO:tensorflow:loss = 3.0222733, step = 16401 (0.062 sec)\n",
      "INFO:tensorflow:global_step/sec: 1586.17\n",
      "INFO:tensorflow:loss = 4.1245127, step = 16501 (0.062 sec)\n",
      "INFO:tensorflow:global_step/sec: 1611.76\n",
      "INFO:tensorflow:loss = 3.570113, step = 16601 (0.062 sec)\n",
      "INFO:tensorflow:global_step/sec: 1586.2\n",
      "INFO:tensorflow:loss = 1.9210691, step = 16701 (0.064 sec)\n",
      "INFO:tensorflow:global_step/sec: 1586.17\n",
      "INFO:tensorflow:loss = 1.1153427, step = 16801 (0.062 sec)\n",
      "INFO:tensorflow:global_step/sec: 1611.76\n",
      "INFO:tensorflow:loss = 1.3107016, step = 16901 (0.062 sec)\n",
      "INFO:tensorflow:global_step/sec: 1611.76\n",
      "INFO:tensorflow:loss = 2.5412397, step = 17001 (0.061 sec)\n",
      "INFO:tensorflow:global_step/sec: 1638.2\n",
      "INFO:tensorflow:loss = 1.5710703, step = 17101 (0.062 sec)\n",
      "INFO:tensorflow:global_step/sec: 1611.76\n",
      "INFO:tensorflow:loss = 1.5691521, step = 17201 (0.063 sec)\n",
      "INFO:tensorflow:global_step/sec: 1586.15\n",
      "INFO:tensorflow:loss = 2.4520748, step = 17301 (0.062 sec)\n",
      "INFO:tensorflow:global_step/sec: 1611.77\n",
      "INFO:tensorflow:loss = 1.9144301, step = 17401 (0.063 sec)\n",
      "INFO:tensorflow:global_step/sec: 1586.19\n",
      "INFO:tensorflow:loss = 3.4914517, step = 17501 (0.063 sec)\n",
      "INFO:tensorflow:global_step/sec: 1611.76\n",
      "INFO:tensorflow:loss = 2.5709336, step = 17601 (0.062 sec)\n",
      "INFO:tensorflow:global_step/sec: 1586.18\n",
      "INFO:tensorflow:loss = 1.7989771, step = 17701 (0.063 sec)\n",
      "INFO:tensorflow:global_step/sec: 1586.19\n",
      "INFO:tensorflow:loss = 1.7013938, step = 17801 (0.063 sec)\n",
      "INFO:tensorflow:global_step/sec: 1611.76\n",
      "INFO:tensorflow:loss = 3.6209607, step = 17901 (0.061 sec)\n",
      "INFO:tensorflow:global_step/sec: 1586.17\n",
      "INFO:tensorflow:loss = 2.3202024, step = 18001 (0.064 sec)\n",
      "INFO:tensorflow:global_step/sec: 1586.19\n",
      "INFO:tensorflow:loss = 0.7320254, step = 18101 (0.063 sec)\n",
      "INFO:tensorflow:global_step/sec: 1586.18\n",
      "INFO:tensorflow:loss = 2.729299, step = 18201 (0.062 sec)\n",
      "INFO:tensorflow:global_step/sec: 1611.76\n",
      "INFO:tensorflow:loss = 0.76971495, step = 18301 (0.062 sec)\n",
      "INFO:tensorflow:global_step/sec: 1638.19\n",
      "INFO:tensorflow:loss = 1.2412875, step = 18401 (0.061 sec)\n",
      "INFO:tensorflow:global_step/sec: 1611.76\n",
      "INFO:tensorflow:loss = 0.7601051, step = 18501 (0.062 sec)\n",
      "INFO:tensorflow:global_step/sec: 1611.76\n",
      "INFO:tensorflow:loss = 1.1381204, step = 18601 (0.064 sec)\n",
      "INFO:tensorflow:global_step/sec: 1561.4\n",
      "INFO:tensorflow:loss = 0.88503087, step = 18701 (0.062 sec)\n",
      "INFO:tensorflow:global_step/sec: 1611.76\n",
      "INFO:tensorflow:loss = 1.4260186, step = 18801 (0.062 sec)\n",
      "INFO:tensorflow:global_step/sec: 1586.19\n",
      "INFO:tensorflow:loss = 0.40832382, step = 18901 (0.063 sec)\n",
      "INFO:tensorflow:global_step/sec: 1514.09\n",
      "INFO:tensorflow:loss = 0.6459422, step = 19001 (0.066 sec)\n",
      "INFO:tensorflow:global_step/sec: 1586.17\n",
      "INFO:tensorflow:loss = 0.7822785, step = 19101 (0.063 sec)\n",
      "INFO:tensorflow:global_step/sec: 1611.76\n",
      "INFO:tensorflow:loss = 0.40441075, step = 19201 (0.062 sec)\n",
      "INFO:tensorflow:global_step/sec: 1611.76\n",
      "INFO:tensorflow:loss = 0.35622507, step = 19301 (0.063 sec)\n",
      "INFO:tensorflow:global_step/sec: 1586.19\n",
      "INFO:tensorflow:loss = 0.340581, step = 19401 (0.063 sec)\n",
      "INFO:tensorflow:global_step/sec: 1561.4\n",
      "INFO:tensorflow:loss = 0.66230065, step = 19501 (0.063 sec)\n",
      "INFO:tensorflow:global_step/sec: 1586.17\n",
      "INFO:tensorflow:loss = 0.2483102, step = 19601 (0.063 sec)\n",
      "INFO:tensorflow:global_step/sec: 1611.75\n",
      "INFO:tensorflow:loss = 0.48179537, step = 19701 (0.062 sec)\n",
      "INFO:tensorflow:global_step/sec: 1611.78\n",
      "INFO:tensorflow:loss = 0.66321576, step = 19801 (0.063 sec)\n",
      "INFO:tensorflow:global_step/sec: 1561.38\n",
      "INFO:tensorflow:loss = 0.49545035, step = 19901 (0.063 sec)\n",
      "INFO:tensorflow:Saving checkpoints for 20000 into C:\\Users\\ZHANGX~1\\AppData\\Local\\Temp\\tmpfpfsol0e\\model.ckpt.\n",
      "INFO:tensorflow:Loss for final step: 0.40472928.\n"
     ]
    },
    {
     "data": {
      "text/plain": [
       "<tensorflow.python.estimator.canned.dnn.DNNRegressor at 0x2ad0a628588>"
      ]
     },
     "execution_count": 147,
     "metadata": {},
     "output_type": "execute_result"
    }
   ],
   "source": [
    "import tensorflow as tf\n",
    "\n",
    "\n",
    "x_feat = tf.feature_column.numeric_column('x', shape = [1])\n",
    "\n",
    "regressor = tf.estimator.DNNRegressor(hidden_units = [20, 20, 20, 20, 20, 20], feature_columns = [x_feat], \n",
    "                                      optimizer = tf.train.AdamOptimizer(learning_rate = 0.001), activation_fn = tf.nn.relu)\n",
    "\n",
    "\n",
    "input_func = tf.estimator.inputs.numpy_input_fn(x = {'x': x_train}, y = y_train, batch_size = 20, num_epochs = 600, \n",
    "                                                shuffle = True)\n",
    "\n",
    "## train the model\n",
    "regressor.train(input_fn = input_func, steps = 20000)"
   ]
  },
  {
   "cell_type": "code",
   "execution_count": 148,
   "metadata": {},
   "outputs": [
    {
     "name": "stdout",
     "output_type": "stream",
     "text": [
      "INFO:tensorflow:Restoring parameters from C:\\Users\\ZHANGX~1\\AppData\\Local\\Temp\\tmpfpfsol0e\\model.ckpt-20000\n"
     ]
    }
   ],
   "source": [
    "eval_input = tf.estimator.inputs.numpy_input_fn(x = {'x': x_test}, shuffle = False)\n",
    "prediction = list(regressor.predict(eval_input))\n",
    "\n",
    "pred_val = [pred['predictions'] for pred in prediction]"
   ]
  },
  {
   "cell_type": "code",
   "execution_count": 149,
   "metadata": {},
   "outputs": [
    {
     "data": {
      "text/plain": [
       "<matplotlib.legend.Legend at 0x2ad07291dd8>"
      ]
     },
     "execution_count": 149,
     "metadata": {},
     "output_type": "execute_result"
    },
    {
     "data": {
      "image/png": "[encoded data removed]",
      "text/plain": [
       "<matplotlib.figure.Figure at 0x2ad0a25eba8>"
      ]
     },
     "metadata": {},
     "output_type": "display_data"
    }
   ],
   "source": [
    "plt.plot(x_test, pred_val, '.')\n",
    "plt.plot(x_test, y_test, '+')\n",
    "plt.legend(['DNN', 'Actual Data'])"
   ]
  },
  {
   "cell_type": "code",
   "execution_count": null,
   "metadata": {},
   "outputs": [],
   "source": []
  }
 ],
 "metadata": {
  "kernelspec": {
   "display_name": "Python 3",
   "language": "python",
   "name": "python3"
  },
  "language_info": {
   "codemirror_mode": {
    "name": "ipython",
    "version": 3
   },
   "file_extension": ".py",
   "mimetype": "text/x-python",
   "name": "python",
   "nbconvert_exporter": "python",
   "pygments_lexer": "ipython3",
   "version": "3.6.3"
  }
 },
 "nbformat": 4,
 "nbformat_minor": 2
}
